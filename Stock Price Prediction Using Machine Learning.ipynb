{
 "cells": [
  {
   "cell_type": "code",
   "execution_count": 2,
   "id": "58ef93fd",
   "metadata": {},
   "outputs": [],
   "source": [
    "#Import libraries\n",
    "import os\n",
    "import numpy as np\n",
    "import pandas as pd\n",
    "import matplotlib.pyplot as plt \n",
    "%matplotlib inline"
   ]
  },
  {
   "cell_type": "code",
   "execution_count": 4,
   "id": "079c74f4",
   "metadata": {},
   "outputs": [],
   "source": [
    "dataset_train =pd.read_csv(r\"C:\\Users\\Omkar\\Downloads\\Google_Stock_Price_Train.csv\")"
   ]
  },
  {
   "cell_type": "code",
   "execution_count": 5,
   "id": "6c5bf21c",
   "metadata": {},
   "outputs": [
    {
     "data": {
      "text/html": [
       "<div>\n",
       "<style scoped>\n",
       "    .dataframe tbody tr th:only-of-type {\n",
       "        vertical-align: middle;\n",
       "    }\n",
       "\n",
       "    .dataframe tbody tr th {\n",
       "        vertical-align: top;\n",
       "    }\n",
       "\n",
       "    .dataframe thead th {\n",
       "        text-align: right;\n",
       "    }\n",
       "</style>\n",
       "<table border=\"1\" class=\"dataframe\">\n",
       "  <thead>\n",
       "    <tr style=\"text-align: right;\">\n",
       "      <th></th>\n",
       "      <th>Date</th>\n",
       "      <th>Open</th>\n",
       "      <th>High</th>\n",
       "      <th>Low</th>\n",
       "      <th>Close</th>\n",
       "      <th>Volume</th>\n",
       "    </tr>\n",
       "  </thead>\n",
       "  <tbody>\n",
       "    <tr>\n",
       "      <th>0</th>\n",
       "      <td>1/3/2012</td>\n",
       "      <td>325.25</td>\n",
       "      <td>332.83</td>\n",
       "      <td>324.97</td>\n",
       "      <td>663.59</td>\n",
       "      <td>7,380,500</td>\n",
       "    </tr>\n",
       "    <tr>\n",
       "      <th>1</th>\n",
       "      <td>1/4/2012</td>\n",
       "      <td>331.27</td>\n",
       "      <td>333.87</td>\n",
       "      <td>329.08</td>\n",
       "      <td>666.45</td>\n",
       "      <td>5,749,400</td>\n",
       "    </tr>\n",
       "    <tr>\n",
       "      <th>2</th>\n",
       "      <td>1/5/2012</td>\n",
       "      <td>329.83</td>\n",
       "      <td>330.75</td>\n",
       "      <td>326.89</td>\n",
       "      <td>657.21</td>\n",
       "      <td>6,590,300</td>\n",
       "    </tr>\n",
       "    <tr>\n",
       "      <th>3</th>\n",
       "      <td>1/6/2012</td>\n",
       "      <td>328.34</td>\n",
       "      <td>328.77</td>\n",
       "      <td>323.68</td>\n",
       "      <td>648.24</td>\n",
       "      <td>5,405,900</td>\n",
       "    </tr>\n",
       "    <tr>\n",
       "      <th>4</th>\n",
       "      <td>1/9/2012</td>\n",
       "      <td>322.04</td>\n",
       "      <td>322.29</td>\n",
       "      <td>309.46</td>\n",
       "      <td>620.76</td>\n",
       "      <td>11,688,800</td>\n",
       "    </tr>\n",
       "  </tbody>\n",
       "</table>\n",
       "</div>"
      ],
      "text/plain": [
       "       Date    Open    High     Low   Close      Volume\n",
       "0  1/3/2012  325.25  332.83  324.97  663.59   7,380,500\n",
       "1  1/4/2012  331.27  333.87  329.08  666.45   5,749,400\n",
       "2  1/5/2012  329.83  330.75  326.89  657.21   6,590,300\n",
       "3  1/6/2012  328.34  328.77  323.68  648.24   5,405,900\n",
       "4  1/9/2012  322.04  322.29  309.46  620.76  11,688,800"
      ]
     },
     "execution_count": 5,
     "metadata": {},
     "output_type": "execute_result"
    }
   ],
   "source": [
    "dataset_train.head()"
   ]
  },
  {
   "cell_type": "code",
   "execution_count": 6,
   "id": "9d18634f",
   "metadata": {},
   "outputs": [],
   "source": [
    "training_set = dataset_train.iloc[:,1:2].values"
   ]
  },
  {
   "cell_type": "code",
   "execution_count": 7,
   "id": "623e30b3",
   "metadata": {},
   "outputs": [
    {
     "name": "stdout",
     "output_type": "stream",
     "text": [
      "[[325.25]\n",
      " [331.27]\n",
      " [329.83]\n",
      " ...\n",
      " [793.7 ]\n",
      " [783.33]\n",
      " [782.75]]\n"
     ]
    }
   ],
   "source": [
    "print(training_set)"
   ]
  },
  {
   "cell_type": "code",
   "execution_count": 8,
   "id": "20a34d6b",
   "metadata": {},
   "outputs": [
    {
     "name": "stdout",
     "output_type": "stream",
     "text": [
      "(1258, 1)\n"
     ]
    }
   ],
   "source": [
    "print(training_set.shape)"
   ]
  },
  {
   "cell_type": "code",
   "execution_count": 9,
   "id": "0c89ff22",
   "metadata": {},
   "outputs": [],
   "source": [
    "from sklearn.preprocessing import MinMaxScaler"
   ]
  },
  {
   "cell_type": "code",
   "execution_count": 14,
   "id": "528b1d68",
   "metadata": {},
   "outputs": [],
   "source": [
    "scaler = MinMaxScaler(feature_range = (0,1))\n",
    "scaled_training_set = scaler.fit_transform(training_set)"
   ]
  },
  {
   "cell_type": "code",
   "execution_count": 15,
   "id": "b6b85b9d",
   "metadata": {},
   "outputs": [
    {
     "data": {
      "text/plain": [
       "array([[0.08581368],\n",
       "       [0.09701243],\n",
       "       [0.09433366],\n",
       "       ...,\n",
       "       [0.95725128],\n",
       "       [0.93796041],\n",
       "       [0.93688146]])"
      ]
     },
     "execution_count": 15,
     "metadata": {},
     "output_type": "execute_result"
    }
   ],
   "source": [
    "scaled_training_set"
   ]
  },
  {
   "cell_type": "markdown",
   "id": "80f3d605",
   "metadata": {},
   "source": [
    "#Creating X_train and y_train Data Structures."
   ]
  },
  {
   "cell_type": "code",
   "execution_count": 16,
   "id": "75672001",
   "metadata": {},
   "outputs": [],
   "source": [
    "X_train =[]\n",
    "y_train =[]\n",
    "for i in range(60,1258):\n",
    "    X_train.append(scaled_training_set[i-60:i,0])\n",
    "    y_train.append(scaled_training_set[i,0])\n",
    "X_train = np.array(X_train)\n",
    "y_train = np.array(y_train)"
   ]
  },
  {
   "cell_type": "code",
   "execution_count": 17,
   "id": "a62703c8",
   "metadata": {},
   "outputs": [
    {
     "name": "stdout",
     "output_type": "stream",
     "text": [
      "(1198, 60)\n",
      "(1198,)\n"
     ]
    }
   ],
   "source": [
    "print(X_train.shape)\n",
    "print(y_train.shape)"
   ]
  },
  {
   "cell_type": "markdown",
   "id": "4bfa4605",
   "metadata": {},
   "source": [
    "#Reshape the Data."
   ]
  },
  {
   "cell_type": "code",
   "execution_count": 18,
   "id": "d18f3084",
   "metadata": {},
   "outputs": [],
   "source": [
    "X_train = np.reshape(X_train,(X_train.shape[0],X_train.shape[1],1))"
   ]
  },
  {
   "cell_type": "code",
   "execution_count": 19,
   "id": "a9dcfbb3",
   "metadata": {},
   "outputs": [
    {
     "data": {
      "text/plain": [
       "(1198, 60, 1)"
      ]
     },
     "execution_count": 19,
     "metadata": {},
     "output_type": "execute_result"
    }
   ],
   "source": [
    "X_train.shape"
   ]
  },
  {
   "cell_type": "markdown",
   "id": "043a5655",
   "metadata": {},
   "source": [
    "#Building the Model by Importing the Crucial Libraries and Adding Different Layers to LSTM."
   ]
  },
  {
   "cell_type": "code",
   "execution_count": 21,
   "id": "c59f92ef",
   "metadata": {},
   "outputs": [],
   "source": [
    "from tensorflow.keras import Sequential"
   ]
  },
  {
   "cell_type": "code",
   "execution_count": 23,
   "id": "b6edcddd",
   "metadata": {},
   "outputs": [],
   "source": [
    "from keras.layers import LSTM\n",
    "from keras.layers import Dense\n",
    "from keras.layers import Dropout"
   ]
  },
  {
   "cell_type": "code",
   "execution_count": 26,
   "id": "083c7ad3",
   "metadata": {},
   "outputs": [],
   "source": [
    "regressor = Sequential()\n",
    "regressor.add(LSTM(units = 50, return_sequences= True, input_shape= (X_train.shape[1], 1)))\n",
    "regressor.add(Dropout(0.2))\n",
    "\n",
    "regressor.add(LSTM(units =50, return_sequences= True))\n",
    "regressor.add(Dropout (0.2))\n",
    "\n",
    "regressor.add(LSTM(units =50, return_sequences= True))\n",
    "regressor.add(Dropout (0.2))\n",
    "\n",
    "regressor.add(LSTM(units =50)) \n",
    "regressor.add(Dropout (0.2))\n",
    "\n",
    "regressor.add(Dense (units=1))"
   ]
  },
  {
   "cell_type": "markdown",
   "id": "9feace2f",
   "metadata": {},
   "source": [
    "#Fitting the Model."
   ]
  },
  {
   "cell_type": "code",
   "execution_count": 27,
   "id": "4e900c2c",
   "metadata": {},
   "outputs": [
    {
     "name": "stdout",
     "output_type": "stream",
     "text": [
      "Epoch 1/100\n",
      "38/38 [==============================] - 21s 167ms/step - loss: 0.0392\n",
      "Epoch 2/100\n",
      "38/38 [==============================] - 6s 168ms/step - loss: 0.0062\n",
      "Epoch 3/100\n",
      "38/38 [==============================] - 5s 128ms/step - loss: 0.0059\n",
      "Epoch 4/100\n",
      "38/38 [==============================] - 6s 162ms/step - loss: 0.0054\n",
      "Epoch 5/100\n",
      "38/38 [==============================] - 6s 150ms/step - loss: 0.0049\n",
      "Epoch 6/100\n",
      "38/38 [==============================] - 5s 130ms/step - loss: 0.0055\n",
      "Epoch 7/100\n",
      "38/38 [==============================] - 6s 168ms/step - loss: 0.0048\n",
      "Epoch 8/100\n",
      "38/38 [==============================] - 6s 152ms/step - loss: 0.0046\n",
      "Epoch 9/100\n",
      "38/38 [==============================] - 5s 144ms/step - loss: 0.0047\n",
      "Epoch 10/100\n",
      "38/38 [==============================] - 6s 167ms/step - loss: 0.0040\n",
      "Epoch 11/100\n",
      "38/38 [==============================] - 5s 136ms/step - loss: 0.0042\n",
      "Epoch 12/100\n",
      "38/38 [==============================] - 6s 154ms/step - loss: 0.0043\n",
      "Epoch 13/100\n",
      "38/38 [==============================] - 6s 167ms/step - loss: 0.0042\n",
      "Epoch 14/100\n",
      "38/38 [==============================] - 5s 118ms/step - loss: 0.0038\n",
      "Epoch 15/100\n",
      "38/38 [==============================] - 6s 164ms/step - loss: 0.0040\n",
      "Epoch 16/100\n",
      "38/38 [==============================] - 6s 150ms/step - loss: 0.0037\n",
      "Epoch 17/100\n",
      "38/38 [==============================] - 5s 129ms/step - loss: 0.0039\n",
      "Epoch 18/100\n",
      "38/38 [==============================] - 6s 167ms/step - loss: 0.0039\n",
      "Epoch 19/100\n",
      "38/38 [==============================] - 6s 157ms/step - loss: 0.0038\n",
      "Epoch 20/100\n",
      "38/38 [==============================] - 5s 139ms/step - loss: 0.0033\n",
      "Epoch 21/100\n",
      "38/38 [==============================] - 6s 167ms/step - loss: 0.0036\n",
      "Epoch 22/100\n",
      "38/38 [==============================] - 5s 138ms/step - loss: 0.0032\n",
      "Epoch 23/100\n",
      "38/38 [==============================] - 6s 148ms/step - loss: 0.0031\n",
      "Epoch 24/100\n",
      "38/38 [==============================] - 6s 169ms/step - loss: 0.0036\n",
      "Epoch 25/100\n",
      "38/38 [==============================] - 5s 127ms/step - loss: 0.0029\n",
      "Epoch 26/100\n",
      "38/38 [==============================] - 6s 153ms/step - loss: 0.0030\n",
      "Epoch 27/100\n",
      "38/38 [==============================] - 6s 166ms/step - loss: 0.0036\n",
      "Epoch 28/100\n",
      "38/38 [==============================] - 5s 119ms/step - loss: 0.0034\n",
      "Epoch 29/100\n",
      "38/38 [==============================] - 6s 162ms/step - loss: 0.0028\n",
      "Epoch 30/100\n",
      "38/38 [==============================] - 6s 162ms/step - loss: 0.0028\n",
      "Epoch 31/100\n",
      "38/38 [==============================] - 5s 121ms/step - loss: 0.0027\n",
      "Epoch 32/100\n",
      "38/38 [==============================] - 6s 168ms/step - loss: 0.0031\n",
      "Epoch 33/100\n",
      "38/38 [==============================] - 6s 154ms/step - loss: 0.0028\n",
      "Epoch 34/100\n",
      "38/38 [==============================] - 5s 132ms/step - loss: 0.0028\n",
      "Epoch 35/100\n",
      "38/38 [==============================] - 6s 168ms/step - loss: 0.0027\n",
      "Epoch 36/100\n",
      "38/38 [==============================] - 5s 144ms/step - loss: 0.0027\n",
      "Epoch 37/100\n",
      "38/38 [==============================] - 6s 151ms/step - loss: 0.0029\n",
      "Epoch 38/100\n",
      "38/38 [==============================] - 6s 166ms/step - loss: 0.0028\n",
      "Epoch 39/100\n",
      "38/38 [==============================] - 5s 141ms/step - loss: 0.0027\n",
      "Epoch 40/100\n",
      "38/38 [==============================] - 6s 153ms/step - loss: 0.0032\n",
      "Epoch 41/100\n",
      "38/38 [==============================] - 6s 167ms/step - loss: 0.0026\n",
      "Epoch 42/100\n",
      "38/38 [==============================] - 5s 135ms/step - loss: 0.0026\n",
      "Epoch 43/100\n",
      "38/38 [==============================] - 6s 165ms/step - loss: 0.0026\n",
      "Epoch 44/100\n",
      "38/38 [==============================] - 6s 155ms/step - loss: 0.0025\n",
      "Epoch 45/100\n",
      "38/38 [==============================] - 5s 129ms/step - loss: 0.0023\n",
      "Epoch 46/100\n",
      "38/38 [==============================] - 6s 167ms/step - loss: 0.0021\n",
      "Epoch 47/100\n",
      "38/38 [==============================] - 6s 146ms/step - loss: 0.0024\n",
      "Epoch 48/100\n",
      "38/38 [==============================] - 5s 140ms/step - loss: 0.0028\n",
      "Epoch 49/100\n",
      "38/38 [==============================] - 6s 168ms/step - loss: 0.0024\n",
      "Epoch 50/100\n",
      "38/38 [==============================] - 6s 152ms/step - loss: 0.0022\n",
      "Epoch 51/100\n",
      "38/38 [==============================] - 6s 149ms/step - loss: 0.0023\n",
      "Epoch 52/100\n",
      "38/38 [==============================] - 6s 169ms/step - loss: 0.0021\n",
      "Epoch 53/100\n",
      "38/38 [==============================] - 5s 126ms/step - loss: 0.0025\n",
      "Epoch 54/100\n",
      "38/38 [==============================] - 6s 158ms/step - loss: 0.0022\n",
      "Epoch 55/100\n",
      "38/38 [==============================] - 6s 168ms/step - loss: 0.0024\n",
      "Epoch 56/100\n",
      "38/38 [==============================] - 5s 120ms/step - loss: 0.0020\n",
      "Epoch 57/100\n",
      "38/38 [==============================] - 6s 168ms/step - loss: 0.0020\n",
      "Epoch 58/100\n",
      "38/38 [==============================] - 6s 162ms/step - loss: 0.0021\n",
      "Epoch 59/100\n",
      "38/38 [==============================] - 5s 134ms/step - loss: 0.0022\n",
      "Epoch 60/100\n",
      "38/38 [==============================] - 7s 172ms/step - loss: 0.0019\n",
      "Epoch 61/100\n",
      "38/38 [==============================] - 6s 153ms/step - loss: 0.0020\n",
      "Epoch 62/100\n",
      "38/38 [==============================] - 6s 149ms/step - loss: 0.0018\n",
      "Epoch 63/100\n",
      "38/38 [==============================] - 6s 168ms/step - loss: 0.0020\n",
      "Epoch 64/100\n",
      "38/38 [==============================] - 5s 133ms/step - loss: 0.0020\n",
      "Epoch 65/100\n",
      "38/38 [==============================] - 6s 163ms/step - loss: 0.0019\n",
      "Epoch 66/100\n",
      "38/38 [==============================] - 6s 169ms/step - loss: 0.0018\n",
      "Epoch 67/100\n",
      "38/38 [==============================] - 5s 126ms/step - loss: 0.0020\n",
      "Epoch 68/100\n",
      "38/38 [==============================] - 6s 167ms/step - loss: 0.0018\n",
      "Epoch 69/100\n",
      "38/38 [==============================] - 6s 158ms/step - loss: 0.0019\n",
      "Epoch 70/100\n",
      "38/38 [==============================] - 5s 138ms/step - loss: 0.0018\n",
      "Epoch 71/100\n",
      "38/38 [==============================] - 6s 170ms/step - loss: 0.0022\n",
      "Epoch 72/100\n",
      "38/38 [==============================] - 5s 138ms/step - loss: 0.0019\n",
      "Epoch 73/100\n",
      "38/38 [==============================] - 6s 149ms/step - loss: 0.0021\n",
      "Epoch 74/100\n",
      "38/38 [==============================] - 6s 168ms/step - loss: 0.0019\n",
      "Epoch 75/100\n",
      "38/38 [==============================] - 6s 146ms/step - loss: 0.0016\n",
      "Epoch 76/100\n",
      "38/38 [==============================] - 6s 158ms/step - loss: 0.0016\n",
      "Epoch 77/100\n",
      "38/38 [==============================] - 6s 166ms/step - loss: 0.0017\n",
      "Epoch 78/100\n",
      "38/38 [==============================] - 6s 148ms/step - loss: 0.0016\n",
      "Epoch 79/100\n",
      "38/38 [==============================] - 6s 169ms/step - loss: 0.0016\n",
      "Epoch 80/100\n",
      "38/38 [==============================] - 6s 148ms/step - loss: 0.0018\n",
      "Epoch 81/100\n",
      "38/38 [==============================] - 6s 153ms/step - loss: 0.0017\n",
      "Epoch 82/100\n",
      "38/38 [==============================] - 6s 168ms/step - loss: 0.0019\n",
      "Epoch 83/100\n",
      "38/38 [==============================] - 5s 128ms/step - loss: 0.0016\n",
      "Epoch 84/100\n",
      "38/38 [==============================] - 6s 157ms/step - loss: 0.0017\n",
      "Epoch 85/100\n",
      "38/38 [==============================] - 6s 168ms/step - loss: 0.0016\n",
      "Epoch 86/100\n",
      "38/38 [==============================] - 5s 120ms/step - loss: 0.0016\n",
      "Epoch 87/100\n",
      "38/38 [==============================] - 6s 166ms/step - loss: 0.0016\n",
      "Epoch 88/100\n",
      "38/38 [==============================] - 6s 161ms/step - loss: 0.0015\n",
      "Epoch 89/100\n",
      "38/38 [==============================] - 5s 138ms/step - loss: 0.0014\n",
      "Epoch 90/100\n",
      "38/38 [==============================] - 6s 167ms/step - loss: 0.0014\n",
      "Epoch 91/100\n",
      "38/38 [==============================] - 5s 142ms/step - loss: 0.0015\n",
      "Epoch 92/100\n",
      "38/38 [==============================] - 5s 145ms/step - loss: 0.0015\n",
      "Epoch 93/100\n",
      "38/38 [==============================] - 6s 169ms/step - loss: 0.0016\n",
      "Epoch 94/100\n",
      "38/38 [==============================] - 6s 149ms/step - loss: 0.0015\n",
      "Epoch 95/100\n",
      "38/38 [==============================] - 6s 151ms/step - loss: 0.0016\n",
      "Epoch 96/100\n",
      "38/38 [==============================] - 6s 170ms/step - loss: 0.0013\n",
      "Epoch 97/100\n",
      "38/38 [==============================] - 5s 131ms/step - loss: 0.0015\n",
      "Epoch 98/100\n",
      "38/38 [==============================] - 6s 165ms/step - loss: 0.0014\n",
      "Epoch 99/100\n",
      "38/38 [==============================] - 6s 161ms/step - loss: 0.0015\n",
      "Epoch 100/100\n",
      "38/38 [==============================] - 5s 134ms/step - loss: 0.0016\n"
     ]
    },
    {
     "data": {
      "text/plain": [
       "<keras.callbacks.History at 0x24c4f829e80>"
      ]
     },
     "execution_count": 27,
     "metadata": {},
     "output_type": "execute_result"
    }
   ],
   "source": [
    "regressor.compile(optimizer = \"adam\",loss = \"mean_squared_error\")\n",
    "regressor.fit(X_train,y_train,epochs=100,batch_size=32)"
   ]
  },
  {
   "cell_type": "code",
   "execution_count": 28,
   "id": "fae9400d",
   "metadata": {},
   "outputs": [],
   "source": [
    "dataset_test = pd.read_csv(r\"C:\\Users\\Omkar\\Downloads\\Google_Stock_Price_Test.csv\")\n",
    "actual_stock_price = dataset_test.iloc[:,1:2].values"
   ]
  },
  {
   "cell_type": "markdown",
   "id": "30a8faff",
   "metadata": {},
   "source": [
    "#Preparing the Input for the Model."
   ]
  },
  {
   "cell_type": "code",
   "execution_count": 35,
   "id": "f5046361",
   "metadata": {},
   "outputs": [],
   "source": [
    "dataset_total = pd.concat((dataset_train['Open'], dataset_test['Open']), axis = 0)\n",
    "inputs = dataset_total[len(dataset_total)- len(dataset_test)-60:].values\n",
    "\n",
    "inputs = inputs.reshape(-1,1) \n",
    "inputs = scaler.transform(inputs)\n",
    "\n",
    "X_test = []\n",
    "for i in range(60,80):\n",
    "    X_test.append(inputs [i-60:i, 0])\n",
    "X_test = np.array(X_test)\n",
    "X_test = np.reshape(X_test,(X_test.shape[0], X_test.shape[1], 1))"
   ]
  },
  {
   "cell_type": "markdown",
   "id": "09de205c",
   "metadata": {},
   "source": [
    "#Predicting the Values for Jan 2017 Stock Prices"
   ]
  },
  {
   "cell_type": "code",
   "execution_count": 36,
   "id": "a6ce78b6",
   "metadata": {},
   "outputs": [
    {
     "name": "stdout",
     "output_type": "stream",
     "text": [
      "1/1 [==============================] - 1s 1s/step\n"
     ]
    }
   ],
   "source": [
    "predicted_stock_price = regressor.predict(X_test)\n",
    "predicted_stock_price = scaler.inverse_transform(predicted_stock_price)"
   ]
  },
  {
   "cell_type": "markdown",
   "id": "1680ce27",
   "metadata": {},
   "source": [
    "#Plotting the Actual and Predicted Prices for Google Stocks"
   ]
  },
  {
   "cell_type": "code",
   "execution_count": 38,
   "id": "fd4a3e21",
   "metadata": {},
   "outputs": [
    {
     "data": {
      "text/plain": [
       "<matplotlib.legend.Legend at 0x24c5d9aafa0>"
      ]
     },
     "execution_count": 38,
     "metadata": {},
     "output_type": "execute_result"
    },
    {
     "data": {
      "image/png": "[encoded data removed]",
      "text/plain": [
       "<Figure size 432x288 with 1 Axes>"
      ]
     },
     "metadata": {
      "needs_background": "light"
     },
     "output_type": "display_data"
    }
   ],
   "source": [
    "plt.plot(actual_stock_price,color = 'red',label = \"Actual Google Stock Price\")\n",
    "plt.plot(predicted_stock_price,color = 'blue',label = 'Predicted Google Stock Price')\n",
    "plt.title('Google Stock Price Prediction')\n",
    "plt.xlabel('Time')\n",
    "plt.ylabel('Google Stock Price')\n",
    "plt.legend()"
   ]
  },
  {
   "cell_type": "markdown",
   "id": "5e2a47de",
   "metadata": {},
   "source": [
    "#As you can see above, the model can predict the trend of the actual stock prices very closely. The accuracy of the model can be enhanced by training with more data and increasing the LSTM layers."
   ]
  },
  {
   "cell_type": "markdown",
   "id": "a0e06405",
   "metadata": {},
   "source": [
    "#The stock market plays a remarkable role in our daily lives. It is a significant factor in a country's GDP growth. In this tutorial, you learned the basics of the stock market and how to perform stock price prediction using machine learning"
   ]
  },
  {
   "cell_type": "code",
   "execution_count": null,
   "id": "ece02c41",
   "metadata": {},
   "outputs": [],
   "source": []
  },
  {
   "cell_type": "code",
   "execution_count": null,
   "id": "7e60b837",
   "metadata": {},
   "outputs": [],
   "source": []
  },
  {
   "cell_type": "code",
   "execution_count": null,
   "id": "51d525ea",
   "metadata": {},
   "outputs": [],
   "source": []
  },
  {
   "cell_type": "code",
   "execution_count": null,
   "id": "7ac24d98",
   "metadata": {},
   "outputs": [],
   "source": []
  },
  {
   "cell_type": "code",
   "execution_count": null,
   "id": "b17ffc23",
   "metadata": {},
   "outputs": [],
   "source": []
  },
  {
   "cell_type": "code",
   "execution_count": null,
   "id": "330e8245",
   "metadata": {},
   "outputs": [],
   "source": []
  },
  {
   "cell_type": "code",
   "execution_count": null,
   "id": "5d7b8507",
   "metadata": {},
   "outputs": [],
   "source": []
  }
 ],
 "metadata": {
  "kernelspec": {
   "display_name": "Python 3 (ipykernel)",
   "language": "python",
   "name": "python3"
  },
  "language_info": {
   "codemirror_mode": {
    "name": "ipython",
    "version": 3
   },
   "file_extension": ".py",
   "mimetype": "text/x-python",
   "name": "python",
   "nbconvert_exporter": "python",
   "pygments_lexer": "ipython3",
   "version": "3.9.7"
  }
 },
 "nbformat": 4,
 "nbformat_minor": 5
}
